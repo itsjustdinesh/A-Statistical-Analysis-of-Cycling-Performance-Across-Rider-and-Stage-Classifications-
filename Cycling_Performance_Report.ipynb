{
  "nbformat": 4,
  "nbformat_minor": 0,
  "metadata": {
    "colab": {
      "provenance": [],
      "authorship_tag": "ABX9TyO77hWjvy5NMs5VzdC6YdX3",
      "include_colab_link": true
    },
    "kernelspec": {
      "name": "python3",
      "display_name": "Python 3"
    },
    "language_info": {
      "name": "python"
    }
  },
  "cells": [
    {
      "cell_type": "markdown",
      "metadata": {
        "id": "view-in-github",
        "colab_type": "text"
      },
      "source": [
        "<a href=\"https://colab.research.google.com/github/itsjustdinesh/A-Statistical-Analysis-of-Cycling-Performance-Across-Rider-and-Stage-Classifications-/blob/main/Cycling_Performance_Report.ipynb\" target=\"_parent\"><img src=\"https://colab.research.google.com/assets/colab-badge.svg\" alt=\"Open In Colab\"/></a>"
      ]
    },
    {
      "cell_type": "code",
      "source": [
        "# Loading the dataset and performing the requested statistical analysis.\n",
        "# This code will:\n",
        "# 1. Load /mnt/data/cycling.txt\n",
        "# 2. Show first rows and summary statistics\n",
        "# 3. Compute descriptive stats by rider_class\n",
        "# 4. Run Shapiro-Wilk on residuals after one-way ANOVA model\n",
        "# 5. Run Levene's test for homogeneity of variances\n",
        "# 6. Run one-way ANOVA, Kruskal-Wallis, Tukey HSD, Dunn post-hoc\n",
        "# 7. Create two plots: boxplot by rider class, and interaction plot (mean points by rider x stage)\n",
        "# Note: matplotlib is used (no seaborn) for plots as required.\n",
        "import pandas as pd\n",
        "import numpy as np\n",
        "import matplotlib.pyplot as plt\n",
        "from scipy import stats\n",
        "import statsmodels.api as sm\n",
        "from statsmodels.formula.api import ols\n",
        "from statsmodels.stats.multicomp import pairwise_tukeyhsd\n",
        "import itertools\n",
        "import os\n",
        "\n",
        "# Load the data\n",
        "path = '/content/cycling.txt'\n",
        "df = pd.read_csv(path, sep='\\t')   # or use sep='\\s+' if needed\n",
        "df.head()\n",
        "\n",
        "\n"
      ],
      "metadata": {
        "colab": {
          "base_uri": "https://localhost:8080/",
          "height": 206
        },
        "id": "RwUUz_FJ7_fV",
        "outputId": "a26d92dc-5372-471a-d9d3-1f915ce50a6f"
      },
      "execution_count": 10,
      "outputs": [
        {
          "output_type": "execute_result",
          "data": {
            "text/plain": [
              "  all_riders \"rider_class\" \"stage\" \"points\" \"stage_class\"\n",
              "0         Tadej Pogačar \"All Rounder\" \"X1\" 15 \"flat\"     \n",
              "1       Tadej Pogačar \"All Rounder\" \"X2\" 219 \"hills\"     \n",
              "2         Tadej Pogačar \"All Rounder\" \"X3\" 34 \"flat\"     \n",
              "3       Tadej Pogačar \"All Rounder\" \"X4\" 264 \"hills\"     \n",
              "4       Tadej Pogačar \"All Rounder\" \"X6\" 114 \"hills\"     "
            ],
            "text/html": [
              "\n",
              "  <div id=\"df-d1e01786-eab1-495c-89aa-e2e6fe68d85a\" class=\"colab-df-container\">\n",
              "    <div>\n",
              "<style scoped>\n",
              "    .dataframe tbody tr th:only-of-type {\n",
              "        vertical-align: middle;\n",
              "    }\n",
              "\n",
              "    .dataframe tbody tr th {\n",
              "        vertical-align: top;\n",
              "    }\n",
              "\n",
              "    .dataframe thead th {\n",
              "        text-align: right;\n",
              "    }\n",
              "</style>\n",
              "<table border=\"1\" class=\"dataframe\">\n",
              "  <thead>\n",
              "    <tr style=\"text-align: right;\">\n",
              "      <th></th>\n",
              "      <th>all_riders \"rider_class\" \"stage\" \"points\" \"stage_class\"</th>\n",
              "    </tr>\n",
              "  </thead>\n",
              "  <tbody>\n",
              "    <tr>\n",
              "      <th>0</th>\n",
              "      <td>Tadej Pogačar \"All Rounder\" \"X1\" 15 \"flat\"</td>\n",
              "    </tr>\n",
              "    <tr>\n",
              "      <th>1</th>\n",
              "      <td>Tadej Pogačar \"All Rounder\" \"X2\" 219 \"hills\"</td>\n",
              "    </tr>\n",
              "    <tr>\n",
              "      <th>2</th>\n",
              "      <td>Tadej Pogačar \"All Rounder\" \"X3\" 34 \"flat\"</td>\n",
              "    </tr>\n",
              "    <tr>\n",
              "      <th>3</th>\n",
              "      <td>Tadej Pogačar \"All Rounder\" \"X4\" 264 \"hills\"</td>\n",
              "    </tr>\n",
              "    <tr>\n",
              "      <th>4</th>\n",
              "      <td>Tadej Pogačar \"All Rounder\" \"X6\" 114 \"hills\"</td>\n",
              "    </tr>\n",
              "  </tbody>\n",
              "</table>\n",
              "</div>\n",
              "    <div class=\"colab-df-buttons\">\n",
              "\n",
              "  <div class=\"colab-df-container\">\n",
              "    <button class=\"colab-df-convert\" onclick=\"convertToInteractive('df-d1e01786-eab1-495c-89aa-e2e6fe68d85a')\"\n",
              "            title=\"Convert this dataframe to an interactive table.\"\n",
              "            style=\"display:none;\">\n",
              "\n",
              "  <svg xmlns=\"http://www.w3.org/2000/svg\" height=\"24px\" viewBox=\"0 -960 960 960\">\n",
              "    <path d=\"M120-120v-720h720v720H120Zm60-500h600v-160H180v160Zm220 220h160v-160H400v160Zm0 220h160v-160H400v160ZM180-400h160v-160H180v160Zm440 0h160v-160H620v160ZM180-180h160v-160H180v160Zm440 0h160v-160H620v160Z\"/>\n",
              "  </svg>\n",
              "    </button>\n",
              "\n",
              "  <style>\n",
              "    .colab-df-container {\n",
              "      display:flex;\n",
              "      gap: 12px;\n",
              "    }\n",
              "\n",
              "    .colab-df-convert {\n",
              "      background-color: #E8F0FE;\n",
              "      border: none;\n",
              "      border-radius: 50%;\n",
              "      cursor: pointer;\n",
              "      display: none;\n",
              "      fill: #1967D2;\n",
              "      height: 32px;\n",
              "      padding: 0 0 0 0;\n",
              "      width: 32px;\n",
              "    }\n",
              "\n",
              "    .colab-df-convert:hover {\n",
              "      background-color: #E2EBFA;\n",
              "      box-shadow: 0px 1px 2px rgba(60, 64, 67, 0.3), 0px 1px 3px 1px rgba(60, 64, 67, 0.15);\n",
              "      fill: #174EA6;\n",
              "    }\n",
              "\n",
              "    .colab-df-buttons div {\n",
              "      margin-bottom: 4px;\n",
              "    }\n",
              "\n",
              "    [theme=dark] .colab-df-convert {\n",
              "      background-color: #3B4455;\n",
              "      fill: #D2E3FC;\n",
              "    }\n",
              "\n",
              "    [theme=dark] .colab-df-convert:hover {\n",
              "      background-color: #434B5C;\n",
              "      box-shadow: 0px 1px 3px 1px rgba(0, 0, 0, 0.15);\n",
              "      filter: drop-shadow(0px 1px 2px rgba(0, 0, 0, 0.3));\n",
              "      fill: #FFFFFF;\n",
              "    }\n",
              "  </style>\n",
              "\n",
              "    <script>\n",
              "      const buttonEl =\n",
              "        document.querySelector('#df-d1e01786-eab1-495c-89aa-e2e6fe68d85a button.colab-df-convert');\n",
              "      buttonEl.style.display =\n",
              "        google.colab.kernel.accessAllowed ? 'block' : 'none';\n",
              "\n",
              "      async function convertToInteractive(key) {\n",
              "        const element = document.querySelector('#df-d1e01786-eab1-495c-89aa-e2e6fe68d85a');\n",
              "        const dataTable =\n",
              "          await google.colab.kernel.invokeFunction('convertToInteractive',\n",
              "                                                    [key], {});\n",
              "        if (!dataTable) return;\n",
              "\n",
              "        const docLinkHtml = 'Like what you see? Visit the ' +\n",
              "          '<a target=\"_blank\" href=https://colab.research.google.com/notebooks/data_table.ipynb>data table notebook</a>'\n",
              "          + ' to learn more about interactive tables.';\n",
              "        element.innerHTML = '';\n",
              "        dataTable['output_type'] = 'display_data';\n",
              "        await google.colab.output.renderOutput(dataTable, element);\n",
              "        const docLink = document.createElement('div');\n",
              "        docLink.innerHTML = docLinkHtml;\n",
              "        element.appendChild(docLink);\n",
              "      }\n",
              "    </script>\n",
              "  </div>\n",
              "\n",
              "\n",
              "    <div id=\"df-840deb95-af87-4159-8c1b-aaebd9d87749\">\n",
              "      <button class=\"colab-df-quickchart\" onclick=\"quickchart('df-840deb95-af87-4159-8c1b-aaebd9d87749')\"\n",
              "                title=\"Suggest charts\"\n",
              "                style=\"display:none;\">\n",
              "\n",
              "<svg xmlns=\"http://www.w3.org/2000/svg\" height=\"24px\"viewBox=\"0 0 24 24\"\n",
              "     width=\"24px\">\n",
              "    <g>\n",
              "        <path d=\"M19 3H5c-1.1 0-2 .9-2 2v14c0 1.1.9 2 2 2h14c1.1 0 2-.9 2-2V5c0-1.1-.9-2-2-2zM9 17H7v-7h2v7zm4 0h-2V7h2v10zm4 0h-2v-4h2v4z\"/>\n",
              "    </g>\n",
              "</svg>\n",
              "      </button>\n",
              "\n",
              "<style>\n",
              "  .colab-df-quickchart {\n",
              "      --bg-color: #E8F0FE;\n",
              "      --fill-color: #1967D2;\n",
              "      --hover-bg-color: #E2EBFA;\n",
              "      --hover-fill-color: #174EA6;\n",
              "      --disabled-fill-color: #AAA;\n",
              "      --disabled-bg-color: #DDD;\n",
              "  }\n",
              "\n",
              "  [theme=dark] .colab-df-quickchart {\n",
              "      --bg-color: #3B4455;\n",
              "      --fill-color: #D2E3FC;\n",
              "      --hover-bg-color: #434B5C;\n",
              "      --hover-fill-color: #FFFFFF;\n",
              "      --disabled-bg-color: #3B4455;\n",
              "      --disabled-fill-color: #666;\n",
              "  }\n",
              "\n",
              "  .colab-df-quickchart {\n",
              "    background-color: var(--bg-color);\n",
              "    border: none;\n",
              "    border-radius: 50%;\n",
              "    cursor: pointer;\n",
              "    display: none;\n",
              "    fill: var(--fill-color);\n",
              "    height: 32px;\n",
              "    padding: 0;\n",
              "    width: 32px;\n",
              "  }\n",
              "\n",
              "  .colab-df-quickchart:hover {\n",
              "    background-color: var(--hover-bg-color);\n",
              "    box-shadow: 0 1px 2px rgba(60, 64, 67, 0.3), 0 1px 3px 1px rgba(60, 64, 67, 0.15);\n",
              "    fill: var(--button-hover-fill-color);\n",
              "  }\n",
              "\n",
              "  .colab-df-quickchart-complete:disabled,\n",
              "  .colab-df-quickchart-complete:disabled:hover {\n",
              "    background-color: var(--disabled-bg-color);\n",
              "    fill: var(--disabled-fill-color);\n",
              "    box-shadow: none;\n",
              "  }\n",
              "\n",
              "  .colab-df-spinner {\n",
              "    border: 2px solid var(--fill-color);\n",
              "    border-color: transparent;\n",
              "    border-bottom-color: var(--fill-color);\n",
              "    animation:\n",
              "      spin 1s steps(1) infinite;\n",
              "  }\n",
              "\n",
              "  @keyframes spin {\n",
              "    0% {\n",
              "      border-color: transparent;\n",
              "      border-bottom-color: var(--fill-color);\n",
              "      border-left-color: var(--fill-color);\n",
              "    }\n",
              "    20% {\n",
              "      border-color: transparent;\n",
              "      border-left-color: var(--fill-color);\n",
              "      border-top-color: var(--fill-color);\n",
              "    }\n",
              "    30% {\n",
              "      border-color: transparent;\n",
              "      border-left-color: var(--fill-color);\n",
              "      border-top-color: var(--fill-color);\n",
              "      border-right-color: var(--fill-color);\n",
              "    }\n",
              "    40% {\n",
              "      border-color: transparent;\n",
              "      border-right-color: var(--fill-color);\n",
              "      border-top-color: var(--fill-color);\n",
              "    }\n",
              "    60% {\n",
              "      border-color: transparent;\n",
              "      border-right-color: var(--fill-color);\n",
              "    }\n",
              "    80% {\n",
              "      border-color: transparent;\n",
              "      border-right-color: var(--fill-color);\n",
              "      border-bottom-color: var(--fill-color);\n",
              "    }\n",
              "    90% {\n",
              "      border-color: transparent;\n",
              "      border-bottom-color: var(--fill-color);\n",
              "    }\n",
              "  }\n",
              "</style>\n",
              "\n",
              "      <script>\n",
              "        async function quickchart(key) {\n",
              "          const quickchartButtonEl =\n",
              "            document.querySelector('#' + key + ' button');\n",
              "          quickchartButtonEl.disabled = true;  // To prevent multiple clicks.\n",
              "          quickchartButtonEl.classList.add('colab-df-spinner');\n",
              "          try {\n",
              "            const charts = await google.colab.kernel.invokeFunction(\n",
              "                'suggestCharts', [key], {});\n",
              "          } catch (error) {\n",
              "            console.error('Error during call to suggestCharts:', error);\n",
              "          }\n",
              "          quickchartButtonEl.classList.remove('colab-df-spinner');\n",
              "          quickchartButtonEl.classList.add('colab-df-quickchart-complete');\n",
              "        }\n",
              "        (() => {\n",
              "          let quickchartButtonEl =\n",
              "            document.querySelector('#df-840deb95-af87-4159-8c1b-aaebd9d87749 button');\n",
              "          quickchartButtonEl.style.display =\n",
              "            google.colab.kernel.accessAllowed ? 'block' : 'none';\n",
              "        })();\n",
              "      </script>\n",
              "    </div>\n",
              "\n",
              "    </div>\n",
              "  </div>\n"
            ],
            "application/vnd.google.colaboratory.intrinsic+json": {
              "type": "dataframe",
              "variable_name": "df",
              "summary": "{\n  \"name\": \"df\",\n  \"rows\": 3496,\n  \"fields\": [\n    {\n      \"column\": \"all_riders \\\"rider_class\\\" \\\"stage\\\" \\\"points\\\" \\\"stage_class\\\"\",\n      \"properties\": {\n        \"dtype\": \"string\",\n        \"num_unique_values\": 3496,\n        \"samples\": [\n          \"Silvan Dillier \\\"Unclassed\\\" \\\"X8\\\" 2 \\\"flat\\\"\",\n          \"Harry Sweeny \\\"Unclassed\\\" \\\"X14\\\" 0 \\\"mount\\\"\",\n          \"Pavel Bittner \\\"Sprinter\\\" \\\"X10\\\" 0 \\\"hills\\\"\"\n        ],\n        \"semantic_type\": \"\",\n        \"description\": \"\"\n      }\n    }\n  ]\n}"
            }
          },
          "metadata": {},
          "execution_count": 10
        }
      ]
    },
    {
      "cell_type": "code",
      "source": [
        "# Replace path if different\n",
        "path = '/content/cycling.txt'\n",
        "\n",
        "import re\n",
        "import pandas as pd\n",
        "\n",
        "rows = []\n",
        "with open(path, 'r', encoding='utf-8') as f:\n",
        "    lines = [ln.rstrip('\\n') for ln in f if ln.strip()]\n",
        "\n",
        "# Try to extract header tokens (if header got read as one string)\n",
        "first = lines[0]\n",
        "# If header is a single string with spaces, split it:\n",
        "if '\"' not in first and ' ' in first and '\\t' not in first:\n",
        "    # likely 'all_riders rider_class stage points stage_class'\n",
        "    hdr = first.split()\n",
        "else:\n",
        "    # try to extract quoted headers\n",
        "    hdr = re.findall(r'\"([^\"]+)\"', first)\n",
        "    if not hdr:\n",
        "        hdr = first.split()\n",
        "\n",
        "# Parse subsequent lines robustly: extract quoted fields and the numeric points\n",
        "for line in lines[1:]:\n",
        "    # Find all quoted tokens\n",
        "    quoted = re.findall(r'\"([^\"]+)\"', line)\n",
        "    nums = re.findall(r'\\b-?\\d+\\b', line)\n",
        "    if len(quoted) >= 4 and nums:\n",
        "        # common good case: quoted rider, rider_class, stage, stage_class + numeric points\n",
        "        # But order sometimes has points as the 4th numeric token — adjust:\n",
        "        # We'll map tokens to the header length if possible\n",
        "        if len(quoted) >= 4:\n",
        "            all_riders = quoted[0]\n",
        "            rider_class = quoted[1]\n",
        "            stage = quoted[2]\n",
        "            # if header expects stage_class as last, attempt to get it from quoted[3]\n",
        "            stage_class = quoted[3]\n",
        "            # points: take first numeric token\n",
        "            points = int(nums[0])\n",
        "            rows.append((all_riders, rider_class, stage, points, stage_class))\n",
        "            continue\n",
        "    # fallback: split by whitespace and try to pick parts\n",
        "    parts = line.split()\n",
        "    # crude fallback — gather quoted-like tokens joined, numbers separately\n",
        "    quoted_parts = re.findall(r'\\\"(.*?)\\\"', line)\n",
        "    if len(quoted_parts) >= 4 and nums:\n",
        "        rows.append((quoted_parts[0], quoted_parts[1], quoted_parts[2], int(nums[0]), quoted_parts[3]))\n",
        "    else:\n",
        "        # Last resort: attempt to split by spaces assuming columns = 5\n",
        "        tokens = line.split()\n",
        "        if len(tokens) >= 5:\n",
        "            # assume last token is stage_class (maybe quoted), fourth is points\n",
        "            points_token = tokens[-2]\n",
        "            try:\n",
        "                points = int(re.sub(r'[^0-9\\-]', '', points_token))\n",
        "                all_riders = ' '.join(tokens[:-4+1])  # best-effort\n",
        "                rider_class = tokens[-4]\n",
        "                stage = tokens[-3]\n",
        "                stage_class = tokens[-1].strip('\"')\n",
        "                rows.append((all_riders, rider_class, stage, points, stage_class))\n",
        "            except:\n",
        "                # skip problematic line or append raw\n",
        "                pass\n",
        "\n",
        "# Build dataframe\n",
        "df_clean = pd.DataFrame(rows, columns=['all_riders','rider_class','stage','points','stage_class'])\n",
        "\n",
        "# final cleaning: strip quotes/spaces and convert points\n",
        "for c in ['all_riders','rider_class','stage','stage_class']:\n",
        "    df_clean[c] = df_clean[c].astype(str).str.replace('\"','').str.strip()\n",
        "df_clean['points'] = pd.to_numeric(df_clean['points'], errors='coerce')\n",
        "\n",
        "# show results\n",
        "print('Columns:', df_clean.columns.tolist())\n",
        "print('Shape:', df_clean.shape)\n",
        "display(df_clean.head(8))\n"
      ],
      "metadata": {
        "colab": {
          "base_uri": "https://localhost:8080/",
          "height": 336
        },
        "id": "I4sza3iD9XuF",
        "outputId": "b7cfafab-26f4-4bfe-c7c9-ce3fad98737d"
      },
      "execution_count": 14,
      "outputs": [
        {
          "output_type": "stream",
          "name": "stdout",
          "text": [
            "Columns: ['all_riders', 'rider_class', 'stage', 'points', 'stage_class']\n",
            "Shape: (3496, 5)\n"
          ]
        },
        {
          "output_type": "display_data",
          "data": {
            "text/plain": [
              "      all_riders  rider_class stage  points stage_class\n",
              "0  Tadej Pogačar  All Rounder    X1      15        flat\n",
              "1  Tadej Pogačar  All Rounder    X2     219       hills\n",
              "2  Tadej Pogačar  All Rounder    X3      34        flat\n",
              "3  Tadej Pogačar  All Rounder    X4     264       hills\n",
              "4  Tadej Pogačar  All Rounder    X6     114       hills\n",
              "5  Tadej Pogačar  All Rounder    X7     274       hills\n",
              "6  Tadej Pogačar  All Rounder    X8      50        flat\n",
              "7  Tadej Pogačar  All Rounder    X9      50        flat"
            ],
            "text/html": [
              "\n",
              "  <div id=\"df-1bc278e9-5f18-4cb7-b33c-dd985184ba31\" class=\"colab-df-container\">\n",
              "    <div>\n",
              "<style scoped>\n",
              "    .dataframe tbody tr th:only-of-type {\n",
              "        vertical-align: middle;\n",
              "    }\n",
              "\n",
              "    .dataframe tbody tr th {\n",
              "        vertical-align: top;\n",
              "    }\n",
              "\n",
              "    .dataframe thead th {\n",
              "        text-align: right;\n",
              "    }\n",
              "</style>\n",
              "<table border=\"1\" class=\"dataframe\">\n",
              "  <thead>\n",
              "    <tr style=\"text-align: right;\">\n",
              "      <th></th>\n",
              "      <th>all_riders</th>\n",
              "      <th>rider_class</th>\n",
              "      <th>stage</th>\n",
              "      <th>points</th>\n",
              "      <th>stage_class</th>\n",
              "    </tr>\n",
              "  </thead>\n",
              "  <tbody>\n",
              "    <tr>\n",
              "      <th>0</th>\n",
              "      <td>Tadej Pogačar</td>\n",
              "      <td>All Rounder</td>\n",
              "      <td>X1</td>\n",
              "      <td>15</td>\n",
              "      <td>flat</td>\n",
              "    </tr>\n",
              "    <tr>\n",
              "      <th>1</th>\n",
              "      <td>Tadej Pogačar</td>\n",
              "      <td>All Rounder</td>\n",
              "      <td>X2</td>\n",
              "      <td>219</td>\n",
              "      <td>hills</td>\n",
              "    </tr>\n",
              "    <tr>\n",
              "      <th>2</th>\n",
              "      <td>Tadej Pogačar</td>\n",
              "      <td>All Rounder</td>\n",
              "      <td>X3</td>\n",
              "      <td>34</td>\n",
              "      <td>flat</td>\n",
              "    </tr>\n",
              "    <tr>\n",
              "      <th>3</th>\n",
              "      <td>Tadej Pogačar</td>\n",
              "      <td>All Rounder</td>\n",
              "      <td>X4</td>\n",
              "      <td>264</td>\n",
              "      <td>hills</td>\n",
              "    </tr>\n",
              "    <tr>\n",
              "      <th>4</th>\n",
              "      <td>Tadej Pogačar</td>\n",
              "      <td>All Rounder</td>\n",
              "      <td>X6</td>\n",
              "      <td>114</td>\n",
              "      <td>hills</td>\n",
              "    </tr>\n",
              "    <tr>\n",
              "      <th>5</th>\n",
              "      <td>Tadej Pogačar</td>\n",
              "      <td>All Rounder</td>\n",
              "      <td>X7</td>\n",
              "      <td>274</td>\n",
              "      <td>hills</td>\n",
              "    </tr>\n",
              "    <tr>\n",
              "      <th>6</th>\n",
              "      <td>Tadej Pogačar</td>\n",
              "      <td>All Rounder</td>\n",
              "      <td>X8</td>\n",
              "      <td>50</td>\n",
              "      <td>flat</td>\n",
              "    </tr>\n",
              "    <tr>\n",
              "      <th>7</th>\n",
              "      <td>Tadej Pogačar</td>\n",
              "      <td>All Rounder</td>\n",
              "      <td>X9</td>\n",
              "      <td>50</td>\n",
              "      <td>flat</td>\n",
              "    </tr>\n",
              "  </tbody>\n",
              "</table>\n",
              "</div>\n",
              "    <div class=\"colab-df-buttons\">\n",
              "\n",
              "  <div class=\"colab-df-container\">\n",
              "    <button class=\"colab-df-convert\" onclick=\"convertToInteractive('df-1bc278e9-5f18-4cb7-b33c-dd985184ba31')\"\n",
              "            title=\"Convert this dataframe to an interactive table.\"\n",
              "            style=\"display:none;\">\n",
              "\n",
              "  <svg xmlns=\"http://www.w3.org/2000/svg\" height=\"24px\" viewBox=\"0 -960 960 960\">\n",
              "    <path d=\"M120-120v-720h720v720H120Zm60-500h600v-160H180v160Zm220 220h160v-160H400v160Zm0 220h160v-160H400v160ZM180-400h160v-160H180v160Zm440 0h160v-160H620v160ZM180-180h160v-160H180v160Zm440 0h160v-160H620v160Z\"/>\n",
              "  </svg>\n",
              "    </button>\n",
              "\n",
              "  <style>\n",
              "    .colab-df-container {\n",
              "      display:flex;\n",
              "      gap: 12px;\n",
              "    }\n",
              "\n",
              "    .colab-df-convert {\n",
              "      background-color: #E8F0FE;\n",
              "      border: none;\n",
              "      border-radius: 50%;\n",
              "      cursor: pointer;\n",
              "      display: none;\n",
              "      fill: #1967D2;\n",
              "      height: 32px;\n",
              "      padding: 0 0 0 0;\n",
              "      width: 32px;\n",
              "    }\n",
              "\n",
              "    .colab-df-convert:hover {\n",
              "      background-color: #E2EBFA;\n",
              "      box-shadow: 0px 1px 2px rgba(60, 64, 67, 0.3), 0px 1px 3px 1px rgba(60, 64, 67, 0.15);\n",
              "      fill: #174EA6;\n",
              "    }\n",
              "\n",
              "    .colab-df-buttons div {\n",
              "      margin-bottom: 4px;\n",
              "    }\n",
              "\n",
              "    [theme=dark] .colab-df-convert {\n",
              "      background-color: #3B4455;\n",
              "      fill: #D2E3FC;\n",
              "    }\n",
              "\n",
              "    [theme=dark] .colab-df-convert:hover {\n",
              "      background-color: #434B5C;\n",
              "      box-shadow: 0px 1px 3px 1px rgba(0, 0, 0, 0.15);\n",
              "      filter: drop-shadow(0px 1px 2px rgba(0, 0, 0, 0.3));\n",
              "      fill: #FFFFFF;\n",
              "    }\n",
              "  </style>\n",
              "\n",
              "    <script>\n",
              "      const buttonEl =\n",
              "        document.querySelector('#df-1bc278e9-5f18-4cb7-b33c-dd985184ba31 button.colab-df-convert');\n",
              "      buttonEl.style.display =\n",
              "        google.colab.kernel.accessAllowed ? 'block' : 'none';\n",
              "\n",
              "      async function convertToInteractive(key) {\n",
              "        const element = document.querySelector('#df-1bc278e9-5f18-4cb7-b33c-dd985184ba31');\n",
              "        const dataTable =\n",
              "          await google.colab.kernel.invokeFunction('convertToInteractive',\n",
              "                                                    [key], {});\n",
              "        if (!dataTable) return;\n",
              "\n",
              "        const docLinkHtml = 'Like what you see? Visit the ' +\n",
              "          '<a target=\"_blank\" href=https://colab.research.google.com/notebooks/data_table.ipynb>data table notebook</a>'\n",
              "          + ' to learn more about interactive tables.';\n",
              "        element.innerHTML = '';\n",
              "        dataTable['output_type'] = 'display_data';\n",
              "        await google.colab.output.renderOutput(dataTable, element);\n",
              "        const docLink = document.createElement('div');\n",
              "        docLink.innerHTML = docLinkHtml;\n",
              "        element.appendChild(docLink);\n",
              "      }\n",
              "    </script>\n",
              "  </div>\n",
              "\n",
              "\n",
              "    <div id=\"df-47f73859-69a0-4ef1-baad-2d81638cc0ca\">\n",
              "      <button class=\"colab-df-quickchart\" onclick=\"quickchart('df-47f73859-69a0-4ef1-baad-2d81638cc0ca')\"\n",
              "                title=\"Suggest charts\"\n",
              "                style=\"display:none;\">\n",
              "\n",
              "<svg xmlns=\"http://www.w3.org/2000/svg\" height=\"24px\"viewBox=\"0 0 24 24\"\n",
              "     width=\"24px\">\n",
              "    <g>\n",
              "        <path d=\"M19 3H5c-1.1 0-2 .9-2 2v14c0 1.1.9 2 2 2h14c1.1 0 2-.9 2-2V5c0-1.1-.9-2-2-2zM9 17H7v-7h2v7zm4 0h-2V7h2v10zm4 0h-2v-4h2v4z\"/>\n",
              "    </g>\n",
              "</svg>\n",
              "      </button>\n",
              "\n",
              "<style>\n",
              "  .colab-df-quickchart {\n",
              "      --bg-color: #E8F0FE;\n",
              "      --fill-color: #1967D2;\n",
              "      --hover-bg-color: #E2EBFA;\n",
              "      --hover-fill-color: #174EA6;\n",
              "      --disabled-fill-color: #AAA;\n",
              "      --disabled-bg-color: #DDD;\n",
              "  }\n",
              "\n",
              "  [theme=dark] .colab-df-quickchart {\n",
              "      --bg-color: #3B4455;\n",
              "      --fill-color: #D2E3FC;\n",
              "      --hover-bg-color: #434B5C;\n",
              "      --hover-fill-color: #FFFFFF;\n",
              "      --disabled-bg-color: #3B4455;\n",
              "      --disabled-fill-color: #666;\n",
              "  }\n",
              "\n",
              "  .colab-df-quickchart {\n",
              "    background-color: var(--bg-color);\n",
              "    border: none;\n",
              "    border-radius: 50%;\n",
              "    cursor: pointer;\n",
              "    display: none;\n",
              "    fill: var(--fill-color);\n",
              "    height: 32px;\n",
              "    padding: 0;\n",
              "    width: 32px;\n",
              "  }\n",
              "\n",
              "  .colab-df-quickchart:hover {\n",
              "    background-color: var(--hover-bg-color);\n",
              "    box-shadow: 0 1px 2px rgba(60, 64, 67, 0.3), 0 1px 3px 1px rgba(60, 64, 67, 0.15);\n",
              "    fill: var(--button-hover-fill-color);\n",
              "  }\n",
              "\n",
              "  .colab-df-quickchart-complete:disabled,\n",
              "  .colab-df-quickchart-complete:disabled:hover {\n",
              "    background-color: var(--disabled-bg-color);\n",
              "    fill: var(--disabled-fill-color);\n",
              "    box-shadow: none;\n",
              "  }\n",
              "\n",
              "  .colab-df-spinner {\n",
              "    border: 2px solid var(--fill-color);\n",
              "    border-color: transparent;\n",
              "    border-bottom-color: var(--fill-color);\n",
              "    animation:\n",
              "      spin 1s steps(1) infinite;\n",
              "  }\n",
              "\n",
              "  @keyframes spin {\n",
              "    0% {\n",
              "      border-color: transparent;\n",
              "      border-bottom-color: var(--fill-color);\n",
              "      border-left-color: var(--fill-color);\n",
              "    }\n",
              "    20% {\n",
              "      border-color: transparent;\n",
              "      border-left-color: var(--fill-color);\n",
              "      border-top-color: var(--fill-color);\n",
              "    }\n",
              "    30% {\n",
              "      border-color: transparent;\n",
              "      border-left-color: var(--fill-color);\n",
              "      border-top-color: var(--fill-color);\n",
              "      border-right-color: var(--fill-color);\n",
              "    }\n",
              "    40% {\n",
              "      border-color: transparent;\n",
              "      border-right-color: var(--fill-color);\n",
              "      border-top-color: var(--fill-color);\n",
              "    }\n",
              "    60% {\n",
              "      border-color: transparent;\n",
              "      border-right-color: var(--fill-color);\n",
              "    }\n",
              "    80% {\n",
              "      border-color: transparent;\n",
              "      border-right-color: var(--fill-color);\n",
              "      border-bottom-color: var(--fill-color);\n",
              "    }\n",
              "    90% {\n",
              "      border-color: transparent;\n",
              "      border-bottom-color: var(--fill-color);\n",
              "    }\n",
              "  }\n",
              "</style>\n",
              "\n",
              "      <script>\n",
              "        async function quickchart(key) {\n",
              "          const quickchartButtonEl =\n",
              "            document.querySelector('#' + key + ' button');\n",
              "          quickchartButtonEl.disabled = true;  // To prevent multiple clicks.\n",
              "          quickchartButtonEl.classList.add('colab-df-spinner');\n",
              "          try {\n",
              "            const charts = await google.colab.kernel.invokeFunction(\n",
              "                'suggestCharts', [key], {});\n",
              "          } catch (error) {\n",
              "            console.error('Error during call to suggestCharts:', error);\n",
              "          }\n",
              "          quickchartButtonEl.classList.remove('colab-df-spinner');\n",
              "          quickchartButtonEl.classList.add('colab-df-quickchart-complete');\n",
              "        }\n",
              "        (() => {\n",
              "          let quickchartButtonEl =\n",
              "            document.querySelector('#df-47f73859-69a0-4ef1-baad-2d81638cc0ca button');\n",
              "          quickchartButtonEl.style.display =\n",
              "            google.colab.kernel.accessAllowed ? 'block' : 'none';\n",
              "        })();\n",
              "      </script>\n",
              "    </div>\n",
              "\n",
              "    </div>\n",
              "  </div>\n"
            ],
            "application/vnd.google.colaboratory.intrinsic+json": {
              "type": "dataframe",
              "summary": "{\n  \"name\": \"display(df_clean\",\n  \"rows\": 8,\n  \"fields\": [\n    {\n      \"column\": \"all_riders\",\n      \"properties\": {\n        \"dtype\": \"category\",\n        \"num_unique_values\": 1,\n        \"samples\": [\n          \"Tadej Poga\\u010dar\"\n        ],\n        \"semantic_type\": \"\",\n        \"description\": \"\"\n      }\n    },\n    {\n      \"column\": \"rider_class\",\n      \"properties\": {\n        \"dtype\": \"category\",\n        \"num_unique_values\": 1,\n        \"samples\": [\n          \"All Rounder\"\n        ],\n        \"semantic_type\": \"\",\n        \"description\": \"\"\n      }\n    },\n    {\n      \"column\": \"stage\",\n      \"properties\": {\n        \"dtype\": \"string\",\n        \"num_unique_values\": 8,\n        \"samples\": [\n          \"X2\"\n        ],\n        \"semantic_type\": \"\",\n        \"description\": \"\"\n      }\n    },\n    {\n      \"column\": \"points\",\n      \"properties\": {\n        \"dtype\": \"number\",\n        \"std\": 108,\n        \"min\": 15,\n        \"max\": 274,\n        \"num_unique_values\": 7,\n        \"samples\": [\n          15\n        ],\n        \"semantic_type\": \"\",\n        \"description\": \"\"\n      }\n    },\n    {\n      \"column\": \"stage_class\",\n      \"properties\": {\n        \"dtype\": \"category\",\n        \"num_unique_values\": 2,\n        \"samples\": [\n          \"hills\"\n        ],\n        \"semantic_type\": \"\",\n        \"description\": \"\"\n      }\n    }\n  ]\n}"
            }
          },
          "metadata": {}
        }
      ]
    },
    {
      "cell_type": "code",
      "source": [
        "!pip install -q scikit-posthocs\n",
        "\n",
        "import pandas as pd\n",
        "import numpy as np\n",
        "import matplotlib.pyplot as plt\n",
        "from scipy import stats\n",
        "import statsmodels.api as sm\n",
        "from statsmodels.formula.api import ols\n",
        "from statsmodels.stats.multicomp import pairwise_tukeyhsd\n",
        "import scikit_posthocs as sp"
      ],
      "metadata": {
        "id": "ts8c6c_ABo19"
      },
      "execution_count": 16,
      "outputs": []
    },
    {
      "cell_type": "code",
      "source": [
        "df = df_clean.copy()"
      ],
      "metadata": {
        "id": "QkCQDkYeBsZ2"
      },
      "execution_count": 17,
      "outputs": []
    },
    {
      "cell_type": "code",
      "source": [
        "df['rider_class'] = df['rider_class'].astype('category')\n",
        "df['stage_class'] = df['stage_class'].astype('category')"
      ],
      "metadata": {
        "id": "wn6bT5VABvYu"
      },
      "execution_count": 18,
      "outputs": []
    },
    {
      "cell_type": "code",
      "source": [
        "desc = df.groupby('rider_class')['points'].agg(['count','mean','median','std','min','max']).reset_index()\n",
        "print(\"Descriptive stats by rider class:\\n\", desc.to_string(index=False))"
      ],
      "metadata": {
        "colab": {
          "base_uri": "https://localhost:8080/"
        },
        "id": "qKBLgGoRBxGe",
        "outputId": "34f23953-4bb0-420e-a528-651f144d16d0"
      },
      "execution_count": 19,
      "outputs": [
        {
          "output_type": "stream",
          "name": "stdout",
          "text": [
            "Descriptive stats by rider class:\n",
            " rider_class  count      mean  median       std  min  max\n",
            "All Rounder    323 37.687307    12.0 63.961640    0  304\n",
            "    Climber    437 20.169336     6.0 43.447254    0  269\n",
            "   Sprinter    551 15.036298     0.0 41.832247    0  272\n",
            "  Unclassed   2185  6.419680     0.0 23.282527    0  260\n"
          ]
        },
        {
          "output_type": "stream",
          "name": "stderr",
          "text": [
            "/tmp/ipython-input-2283175681.py:1: FutureWarning: The default of observed=False is deprecated and will be changed to True in a future version of pandas. Pass observed=False to retain current behavior or observed=True to adopt the future default and silence this warning.\n",
            "  desc = df.groupby('rider_class')['points'].agg(['count','mean','median','std','min','max']).reset_index()\n"
          ]
        }
      ]
    },
    {
      "cell_type": "code",
      "source": [
        "# One-way ANOVA\n",
        "model = ols('points ~ C(rider_class)', data=df).fit()\n",
        "anova_table = sm.stats.anova_lm(model, typ=2)\n",
        "print(\"\\nANOVA table:\\n\", anova_table)"
      ],
      "metadata": {
        "colab": {
          "base_uri": "https://localhost:8080/"
        },
        "id": "xz5Uwa3ZBzAe",
        "outputId": "72b096d2-4a32-4a1a-c935-25e2f321a1f5"
      },
      "execution_count": 20,
      "outputs": [
        {
          "output_type": "stream",
          "name": "stdout",
          "text": [
            "\n",
            "ANOVA table:\n",
            "                       sum_sq      df          F        PR(>F)\n",
            "C(rider_class)  3.148937e+05     3.0  85.505214  2.198409e-53\n",
            "Residual        4.286712e+06  3492.0        NaN           NaN\n"
          ]
        }
      ]
    },
    {
      "cell_type": "code",
      "source": [
        "# Residual diagnostics (Shapiro on sample of 500 to avoid Shapiro warning on large n)\n",
        "resid = model.resid\n",
        "sh_stat, sh_p = stats.shapiro(resid.sample(500, random_state=0))\n",
        "print(f\"\\nShapiro-Wilk (residuals sample500): W={sh_stat:.4f}, p={sh_p:.4e}\")"
      ],
      "metadata": {
        "colab": {
          "base_uri": "https://localhost:8080/"
        },
        "id": "u-ayOVlAB0_e",
        "outputId": "4acca89f-3985-4381-f412-1a639789e348"
      },
      "execution_count": 21,
      "outputs": [
        {
          "output_type": "stream",
          "name": "stdout",
          "text": [
            "\n",
            "Shapiro-Wilk (residuals sample500): W=0.5118, p=7.1742e-35\n"
          ]
        }
      ]
    },
    {
      "cell_type": "code",
      "source": [
        "# Levene's test\n",
        "groups = [g['points'].values for _, g in df.groupby('rider_class')]\n",
        "lev_stat, lev_p = stats.levene(*groups)\n",
        "print(f\"Levene's test: W={lev_stat:.4f}, p={lev_p:.4e}\")\n"
      ],
      "metadata": {
        "colab": {
          "base_uri": "https://localhost:8080/"
        },
        "id": "k37Ap6QrB2u3",
        "outputId": "92d8636f-316b-4390-8ab5-c1b43dc593df"
      },
      "execution_count": 22,
      "outputs": [
        {
          "output_type": "stream",
          "name": "stdout",
          "text": [
            "Levene's test: W=83.0757, p=6.4882e-52\n"
          ]
        },
        {
          "output_type": "stream",
          "name": "stderr",
          "text": [
            "/tmp/ipython-input-3092257852.py:2: FutureWarning: The default of observed=False is deprecated and will be changed to True in a future version of pandas. Pass observed=False to retain current behavior or observed=True to adopt the future default and silence this warning.\n",
            "  groups = [g['points'].values for _, g in df.groupby('rider_class')]\n"
          ]
        }
      ]
    },
    {
      "cell_type": "code",
      "source": [
        "# Kruskal-Wallis\n",
        "kw_stat, kw_p = stats.kruskal(*groups)\n",
        "print(f\"Kruskal-Wallis: H={kw_stat:.4f}, p={kw_p:.4e}\")"
      ],
      "metadata": {
        "colab": {
          "base_uri": "https://localhost:8080/"
        },
        "id": "d82tcmAkB4kN",
        "outputId": "d465d70e-a70c-43a4-e422-ac5b16c61726"
      },
      "execution_count": 23,
      "outputs": [
        {
          "output_type": "stream",
          "name": "stdout",
          "text": [
            "Kruskal-Wallis: H=330.2007, p=2.8872e-71\n"
          ]
        }
      ]
    },
    {
      "cell_type": "code",
      "source": [
        "# Tukey HSD (post-hoc for ANOVA)\n",
        "tukey = pairwise_tukeyhsd(df['points'], df['rider_class'])\n",
        "print(\"\\nTukey HSD results:\\n\")\n",
        "print(tukey.summary())"
      ],
      "metadata": {
        "colab": {
          "base_uri": "https://localhost:8080/"
        },
        "id": "iN5eeagCB6cW",
        "outputId": "f6ecd842-42fa-47c3-dcc7-b22896dab95b"
      },
      "execution_count": 24,
      "outputs": [
        {
          "output_type": "stream",
          "name": "stdout",
          "text": [
            "\n",
            "Tukey HSD results:\n",
            "\n",
            "     Multiple Comparison of Means - Tukey HSD, FWER=0.05      \n",
            "==============================================================\n",
            "   group1     group2  meandiff p-adj   lower    upper   reject\n",
            "--------------------------------------------------------------\n",
            "All Rounder   Climber  -17.518    0.0 -24.1259   -10.91   True\n",
            "All Rounder  Sprinter  -22.651    0.0 -28.9618 -16.3402   True\n",
            "All Rounder Unclassed -31.2676    0.0  -36.636 -25.8993   True\n",
            "    Climber  Sprinter   -5.133 0.1012 -10.9016   0.6355  False\n",
            "    Climber Unclassed -13.7497    0.0 -18.4687  -9.0306   True\n",
            "   Sprinter Unclassed  -8.6166    0.0 -12.9096  -4.3236   True\n",
            "--------------------------------------------------------------\n"
          ]
        }
      ]
    },
    {
      "cell_type": "code",
      "source": [
        "# Dunn post-hoc (non-parametric) using scikit-posthocs\n",
        "dunn = sp.posthoc_dunn(df, val_col='points', group_col='rider_class', p_adjust='bonferroni')\n",
        "print(\"\\nDunn post-hoc (Bonferroni-adjusted p-values):\\n\", dunn)"
      ],
      "metadata": {
        "colab": {
          "base_uri": "https://localhost:8080/"
        },
        "id": "Rq2c30cfB8Mm",
        "outputId": "19960bac-fe8f-44e1-c2f8-a2361b037f89"
      },
      "execution_count": 25,
      "outputs": [
        {
          "output_type": "stream",
          "name": "stdout",
          "text": [
            "\n",
            "Dunn post-hoc (Bonferroni-adjusted p-values):\n",
            "               All Rounder       Climber      Sprinter     Unclassed\n",
            "All Rounder  1.000000e+00  6.560854e-02  1.774560e-24  9.829659e-47\n",
            "Climber      6.560854e-02  1.000000e+00  1.838582e-16  2.430592e-37\n",
            "Sprinter     1.774560e-24  1.838582e-16  1.000000e+00  2.683631e-02\n",
            "Unclassed    9.829659e-47  2.430592e-37  2.683631e-02  1.000000e+00\n"
          ]
        }
      ]
    },
    {
      "cell_type": "code",
      "source": [
        "from itertools import combinations\n",
        "pairs = list(combinations(df['rider_class'].cat.categories, 2))\n",
        "pvals = []\n",
        "for a,b in pairs:\n",
        "    da = df.loc[df['rider_class']==a, 'points']\n",
        "    db = df.loc[df['rider_class']==b, 'points']\n",
        "    stat, p = stats.mannwhitneyu(da, db, alternative='two-sided')\n",
        "    pvals.append((f\"{a} vs {b}\", p))\n",
        "pairwise_df = pd.DataFrame(pvals, columns=['comparison','p_raw'])\n",
        "pairwise_df['p_bonf'] = np.minimum(pairwise_df['p_raw'] * len(pairs), 1.0)\n",
        "print(\"\\nPairwise Mann-Whitney (Bonferroni adjusted):\\n\", pairwise_df.to_string(index=False))"
      ],
      "metadata": {
        "colab": {
          "base_uri": "https://localhost:8080/"
        },
        "id": "meEJvZo7B9_f",
        "outputId": "b2545401-991c-4f10-f369-5c24b265268a"
      },
      "execution_count": 26,
      "outputs": [
        {
          "output_type": "stream",
          "name": "stdout",
          "text": [
            "\n",
            "Pairwise Mann-Whitney (Bonferroni adjusted):\n",
            "               comparison        p_raw       p_bonf\n",
            "  All Rounder vs Climber 4.196988e-04 2.518193e-03\n",
            " All Rounder vs Sprinter 7.367523e-21 4.420514e-20\n",
            "All Rounder vs Unclassed 7.750452e-49 4.650271e-48\n",
            "     Climber vs Sprinter 4.383646e-15 2.630187e-14\n",
            "    Climber vs Unclassed 1.126900e-41 6.761402e-41\n",
            "   Sprinter vs Unclassed 4.496240e-03 2.697744e-02\n"
          ]
        }
      ]
    },
    {
      "cell_type": "code",
      "source": [
        "# Figure 1: Boxplot by rider class\n",
        "plt.figure(figsize=(6,4))\n",
        "order = df['rider_class'].cat.categories.tolist()\n",
        "data_plot = [df.loc[df['rider_class']==g, 'points'] for g in order]\n",
        "plt.boxplot(data_plot, labels=order)\n",
        "plt.xlabel('Rider Class')\n",
        "plt.ylabel('Points')\n",
        "plt.title('Figure 1: Points Distribution by Rider Class')\n",
        "plt.tight_layout()\n",
        "plt.show()"
      ],
      "metadata": {
        "colab": {
          "base_uri": "https://localhost:8080/",
          "height": 463
        },
        "id": "IWm4cuXSCAsl",
        "outputId": "812153de-9613-4803-e62a-d5c6f4af201e"
      },
      "execution_count": 27,
      "outputs": [
        {
          "output_type": "stream",
          "name": "stderr",
          "text": [
            "/tmp/ipython-input-383670655.py:5: MatplotlibDeprecationWarning: The 'labels' parameter of boxplot() has been renamed 'tick_labels' since Matplotlib 3.9; support for the old name will be dropped in 3.11.\n",
            "  plt.boxplot(data_plot, labels=order)\n"
          ]
        },
        {
          "output_type": "display_data",
          "data": {
            "text/plain": [
              "<Figure size 600x400 with 1 Axes>"
            ],
            "image/png": "[encoded data removed]"
          },
          "metadata": {}
        }
      ]
    },
    {
      "cell_type": "code",
      "source": [
        "# Figure 2: Interaction plot (mean points by rider_class x stage_class)\n",
        "mean_table = df.groupby(['rider_class','stage_class'])['points'].mean().unstack()\n",
        "plt.figure(figsize=(6,4))\n",
        "for cls in mean_table.index:\n",
        "    plt.plot(mean_table.columns, mean_table.loc[cls], marker='o', label=cls)\n",
        "plt.xlabel('Stage Class')\n",
        "plt.ylabel('Mean Points')\n",
        "plt.title('Figure 2: Interaction Plot (Rider Class × Stage Class)')\n",
        "plt.legend(title='Rider Class', bbox_to_anchor=(1.02,1), loc='upper left')\n",
        "plt.tight_layout()\n",
        "plt.show()"
      ],
      "metadata": {
        "colab": {
          "base_uri": "https://localhost:8080/",
          "height": 463
        },
        "id": "xV7gEvH8CCnP",
        "outputId": "c33bdbd7-1631-47e2-cbad-128b54bd6690"
      },
      "execution_count": 28,
      "outputs": [
        {
          "output_type": "stream",
          "name": "stderr",
          "text": [
            "/tmp/ipython-input-1269287108.py:2: FutureWarning: The default of observed=False is deprecated and will be changed to True in a future version of pandas. Pass observed=False to retain current behavior or observed=True to adopt the future default and silence this warning.\n",
            "  mean_table = df.groupby(['rider_class','stage_class'])['points'].mean().unstack()\n"
          ]
        },
        {
          "output_type": "display_data",
          "data": {
            "text/plain": [
              "<Figure size 600x400 with 1 Axes>"
            ],
            "image/png": "[encoded data removed]"
          },
          "metadata": {}
        }
      ]
    }
  ]
}